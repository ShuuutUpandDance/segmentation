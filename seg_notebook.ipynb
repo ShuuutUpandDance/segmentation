{
 "cells": [
  {
   "cell_type": "markdown",
   "metadata": {
    "heading_collapsed": true
   },
   "source": [
    "#### 引入与 Area 类定义"
   ]
  },
  {
   "cell_type": "code",
   "execution_count": 29,
   "metadata": {
    "hidden": true
   },
   "outputs": [],
   "source": [
    "import cv2\n",
    "from tqdm import tqdm\n",
    "import math\n",
    "import matplotlib.pyplot as plt"
   ]
  },
  {
   "cell_type": "code",
   "execution_count": 10,
   "metadata": {
    "hidden": true
   },
   "outputs": [],
   "source": [
    "class Area:\n",
    "    def __init__(self, left, right, up, down, area_level, val):\n",
    "        self.left = left\n",
    "        self.right = right\n",
    "        self.up = up\n",
    "        self.down = down\n",
    "        self.val = val\n",
    "        self.area_level = area_level\n",
    "        self.area = (down - up) * (right - left)\n",
    "\n",
    "    def __cmp__(self, other):\n",
    "        if self.val < other.val:\n",
    "            return -1\n",
    "        elif self.val == other.val:\n",
    "            return 0\n",
    "        else:\n",
    "            return 1\n",
    "\n",
    "    def __lt__(self, other):  \n",
    "        if self.val < other.val:\n",
    "            return True\n",
    "        else:\n",
    "            return False\n",
    "        \n",
    "    def __str__(self):\n",
    "        return \"Area (%d, %d, %d, %d, %d)'s value is %.3f\" %\\\n",
    "    (self.left, self.right, self.up, self.down, self.area_level, self.val)"
   ]
  },
  {
   "cell_type": "markdown",
   "metadata": {},
   "source": [
    "####  判断一块区域是否值得被框选"
   ]
  },
  {
   "cell_type": "code",
   "execution_count": 4,
   "metadata": {},
   "outputs": [],
   "source": [
    "# 统计 matrix 区域中大于 threshold 的元素个数\n",
    "def elements_gt_threshold(matrix, threshold=200):\n",
    "    count = 0\n",
    "    h, w = matrix.shape\n",
    "    for i in range(h):\n",
    "        for j in range(w):\n",
    "            if matrix[i, j] > threshold:\n",
    "                count += 1\n",
    "    return count"
   ]
  },
  {
   "cell_type": "code",
   "execution_count": 7,
   "metadata": {},
   "outputs": [],
   "source": [
    "def get_result_from_size_list(img_path, size_list):\n",
    "    # size_list element = (h, w, area_level)\n",
    "    img = cv2.imread(img_path, 0)\n",
    "    result_list = []\n",
    "    for ele in size_list:\n",
    "        rect_h, rect_w, area_level = ele\n",
    "        img_h, img_w = img.shape\n",
    "        area_list = []\n",
    "        \n",
    "        threshold = 0.15 if area_level <= 256 else 0.1\n",
    "        up_down_margin = math.ceil(rect_h / 2)\n",
    "        left_right_margin = math.ceil(rect_w / 2)\n",
    "        for i in tqdm(range(up_down_margin, img_h - up_down_margin)):\n",
    "            for j in range(left_right_margin, img_w - left_right_margin):\n",
    "                tal = rect_h * rect_w * threshold\n",
    "                left = max(j - int(rect_w/2), 0)\n",
    "                right = min(j + int(rect_w/2), img_w)\n",
    "                up = max(i - int(rect_h / 2), 0)\n",
    "                down = min(i + int(rect_h / 2), img_h)\n",
    "                result = elements_gt_threshold(img[up:down, left:right])\n",
    "\n",
    "                if result > tal:\n",
    "                    area = Area(left, right, up, down,\n",
    "                                area_level, result/(rect_h * rect_w))\n",
    "                    area_list.append(area)\n",
    "        result_list.append(area_list)\n",
    "    return result_list"
   ]
  },
  {
   "cell_type": "code",
   "execution_count": 11,
   "metadata": {},
   "outputs": [
    {
     "name": "stderr",
     "output_type": "stream",
     "text": [
      "100%|██████████| 152/152 [00:17<00:00,  9.18it/s]\n",
      "100%|██████████| 138/138 [01:29<00:00,  1.49it/s]\n",
      "100%|██████████| 116/116 [02:20<00:00,  1.18s/it]\n"
     ]
    }
   ],
   "source": [
    "size_list = [(16, 16, 256), (30, 60, 2048), (51, 77, 4096)]\n",
    "result_list = get_result_from_size_list('90_4_down.jpg', size_list)"
   ]
  },
  {
   "cell_type": "code",
   "execution_count": 12,
   "metadata": {},
   "outputs": [
    {
     "name": "stdout",
     "output_type": "stream",
     "text": [
      "2220\n",
      "3953\n",
      "1557\n"
     ]
    }
   ],
   "source": [
    "small_list = result_list[0].copy()\n",
    "mid_list = result_list[1].copy()\n",
    "large_list = result_list[2].copy()\n",
    "print(len(small_list))\n",
    "print(len(mid_list))\n",
    "print(len(large_list))"
   ]
  },
  {
   "cell_type": "markdown",
   "metadata": {
    "heading_collapsed": true
   },
   "source": [
    "#### 使用 nms 删除冗余框"
   ]
  },
  {
   "cell_type": "code",
   "execution_count": 48,
   "metadata": {
    "hidden": true
   },
   "outputs": [],
   "source": [
    "def is_redundant(area1, area2, same_level=True):\n",
    "    ratio = 0\n",
    "    w = 0\n",
    "    h = 0\n",
    "    if (area1.left >= area2.left and area1.left < area2.right):\n",
    "        w = min(area2.right, area1.right) - area1.left\n",
    "        h = min(area1.down, area2.down) - max(area1.up, area2.up)\n",
    "    elif (area1.up >= area2.up and area1.up < area2.down):\n",
    "        h = min(area2.down, area1.down) - area1.up\n",
    "        w = min(area1.right, area2.right) - max(area1.left, area2.left)\n",
    "    elif (area2.left >= area1.left and area2.left < area1.right):\n",
    "        w = min(area2.right, area1.right) - area2.left\n",
    "        h = min(area1.down, area2.down) - max(area1.up, area2.up)\n",
    "    elif (area2.up >= area1.up and area2.up < area1.down):\n",
    "        h = min(area2.down, area1.down) - area2.up\n",
    "        w = min(area1.right, area2.right) - max(area1.left, area2.left)\n",
    "    \n",
    "    if same_level:\n",
    "        ratio = (w * h) / (area1.area + area2.area - w * h)\n",
    "        th = 0.1\n",
    "    else:\n",
    "        th = 0.3\n",
    "        if area1.area_level > area2.area_level:\n",
    "            ratio = (w * h) / area2.area\n",
    "        else:\n",
    "            ratio = (w * h) / area1.area\n",
    "    return ratio >= th"
   ]
  },
  {
   "cell_type": "code",
   "execution_count": 49,
   "metadata": {
    "hidden": true
   },
   "outputs": [],
   "source": [
    "# 对于同一个 area_level 的框，按得分排序，然后 nms 最小的\n",
    "def sort_and_nms_1(area_list):\n",
    "    area_list_copy = area_list.copy()\n",
    "    area_list_copy.sort(reverse=True)\n",
    "    i = 0\n",
    "    while i < (len(area_list_copy) - 1):\n",
    "        first_area = area_list_copy[i]\n",
    "        j = i + 1\n",
    "        while j < len(area_list_copy):\n",
    "            second_area = area_list_copy[j]\n",
    "            if is_redundant(first_area, second_area):\n",
    "                area_list_copy.remove(second_area)\n",
    "            else:\n",
    "                j += 1\n",
    "        i += 1\n",
    "    return area_list_copy"
   ]
  },
  {
   "cell_type": "code",
   "execution_count": 50,
   "metadata": {
    "hidden": true
   },
   "outputs": [],
   "source": [
    "# 对于不同 level 的，smaller_list 必须是已经 merge 好了的\n",
    "# 遵循先小后大的 merge 顺序\n",
    "def merge_and_nms_2(smaller_list, larger_list):\n",
    "    smaller_list_copy = smaller_list.copy()\n",
    "    for larger_area in larger_list:\n",
    "        i = 0\n",
    "        while i < len(smaller_list_copy):\n",
    "            smaller_area = smaller_list_copy[i]\n",
    "            if is_redundant(larger_area, smaller_area, same_level=False):\n",
    "                smaller_list_copy.remove(smaller_area)\n",
    "            else:\n",
    "                i += 1\n",
    "    return smaller_list_copy + larger_list"
   ]
  },
  {
   "cell_type": "code",
   "execution_count": 32,
   "metadata": {
    "hidden": true
   },
   "outputs": [
    {
     "name": "stdout",
     "output_type": "stream",
     "text": [
      "Area (0, 3, 0, 3, 9)'s value is 1.000\n",
      "Area (5, 6, 5, 6, 1)'s value is 1.000\n",
      "Area (1, 4, 1, 4, 9)'s value is 0.500\n"
     ]
    }
   ],
   "source": [
    "area1 = Area(0, 3, 0, 3,9, 1)\n",
    "area2 = Area(1, 4, 1, 4,9, 0.5)\n",
    "area3 = Area(0, 3, 1, 4,9, 0.75)\n",
    "area4 = Area(1, 4, 0, 3,9, 0.5)\n",
    "area5 = Area(5, 6, 5, 6, 1, 1)\n",
    "area_list = [area2, area3, area4, area1, area5]\n",
    "# area_list.remove(area3)\n",
    "# len(area_list)\n",
    "nms1 = sort_and_nms_1(area_list)\n",
    "for ele in nms1:\n",
    "    print(ele)"
   ]
  },
  {
   "cell_type": "code",
   "execution_count": 33,
   "metadata": {
    "hidden": true
   },
   "outputs": [
    {
     "name": "stdout",
     "output_type": "stream",
     "text": [
      "Area (0, 4, 0, 4, 16)'s value is 0.700\n",
      "Area (4, 8, 4, 8, 16)'s value is 0.750\n"
     ]
    }
   ],
   "source": [
    "area1 = Area(0, 3, 0, 3, 9, 1)\n",
    "area2 = Area(4, 7, 4, 7, 9, 1)\n",
    "area3 = Area(0, 4, 0, 4, 16, 0.7)\n",
    "area4 = Area(4, 8, 4, 8, 16, 0.75)\n",
    "smaller_list = [area1, area2]\n",
    "larger_list = [area3, area4]\n",
    "# area_list.remove(area3)\n",
    "# len(area_list)\n",
    "nms2 = merge_and_nms_2(smaller_list, larger_list)\n",
    "for ele in nms2:\n",
    "    print(ele)"
   ]
  },
  {
   "cell_type": "markdown",
   "metadata": {
    "heading_collapsed": true
   },
   "source": [
    "#### 在图上以方框标识结果"
   ]
  },
  {
   "cell_type": "code",
   "execution_count": 62,
   "metadata": {
    "hidden": true
   },
   "outputs": [],
   "source": [
    "color = (155)\n",
    "thickness = 2"
   ]
  },
  {
   "cell_type": "code",
   "execution_count": 63,
   "metadata": {
    "hidden": true
   },
   "outputs": [
    {
     "name": "stdout",
     "output_type": "stream",
     "text": [
      "12\n"
     ]
    }
   ],
   "source": [
    "small_nms1 = sort_and_nms_1(small_list)\n",
    "print(len(small_nms1))\n",
    "img_small_nms1 = cv2.imread('90_4_down.jpg', 0)\n",
    "\n",
    "for i in range(len(small_nms1)): \n",
    "    pos = (small_nms1[i].left, small_nms1[i].right, small_nms1[i].up, small_nms1[i].down)\n",
    "    cv2.rectangle(img_small_nms1, (pos[0], pos[2]), (pos[1], pos[3]), color, thickness)\n",
    "\n",
    "img_small = cv2.imread('90_4_down.jpg', 0)\n",
    "for i in range(len(small_list)): \n",
    "    pos = (small_list[i].left, small_list[i].right, small_list[i].up, small_list[i].down)\n",
    "    cv2.rectangle(img_small, (pos[0], pos[2]), (pos[1], pos[3]), color, thickness)"
   ]
  },
  {
   "cell_type": "code",
   "execution_count": 65,
   "metadata": {
    "hidden": true
   },
   "outputs": [
    {
     "name": "stdout",
     "output_type": "stream",
     "text": [
      "3\n"
     ]
    }
   ],
   "source": [
    "img_mid = cv2.imread('90_4_down.jpg', 0)\n",
    "for i in range(len(mid_list)): \n",
    "    pos = (mid_list[i].left, mid_list[i].right, mid_list[i].up, mid_list[i].down)\n",
    "    cv2.rectangle(img_mid, (pos[0], pos[2]), (pos[1], pos[3]), color, thickness)\n",
    "img_mid_nms1 = cv2.imread('90_4_down.jpg', 0)\n",
    "mid_nms1 = sort_and_nms_1(mid_list)\n",
    "print(len(mid_nms1))\n",
    "for i in range(len(mid_nms1)): \n",
    "    pos = (mid_nms1[i].left, mid_nms1[i].right, mid_nms1[i].up, mid_nms1[i].down)\n",
    "    cv2.rectangle(img_mid_nms1, (pos[0], pos[2]), (pos[1], pos[3]), color, thickness)"
   ]
  },
  {
   "cell_type": "code",
   "execution_count": 66,
   "metadata": {
    "hidden": true
   },
   "outputs": [
    {
     "name": "stdout",
     "output_type": "stream",
     "text": [
      "1\n"
     ]
    }
   ],
   "source": [
    "img_large = cv2.imread('90_4_down.jpg', 0)\n",
    "for i in range(len(large_list)): \n",
    "    pos = (large_list[i].left, large_list[i].right, large_list[i].up, large_list[i].down)\n",
    "    cv2.rectangle(img_large, (pos[0], pos[2]), (pos[1], pos[3]), color, thickness)\n",
    "img_large_nms1 = cv2.imread('90_4_down.jpg', 0)\n",
    "large_nms1 = sort_and_nms_1(large_list)\n",
    "print(len(large_nms1))\n",
    "for i in range(len(large_nms1)): \n",
    "    pos = (large_nms1[i].left, large_nms1[i].right, large_nms1[i].up, large_nms1[i].down)\n",
    "    cv2.rectangle(img_large_nms1, (pos[0], pos[2]), (pos[1], pos[3]), color, thickness)"
   ]
  },
  {
   "cell_type": "code",
   "execution_count": 67,
   "metadata": {
    "hidden": true
   },
   "outputs": [
    {
     "name": "stdout",
     "output_type": "stream",
     "text": [
      "15\n",
      "4\n",
      "5\n",
      "3\n"
     ]
    }
   ],
   "source": [
    "img_small_mid_nms2 = cv2.imread('90_4_down.jpg', 0)\n",
    "small_mid_nms2 = merge_and_nms_2(small_nms1, mid_nms1)\n",
    "print(len(mid_nms1) + len(small_nms1))\n",
    "print(len(small_mid_nms2))\n",
    "for i in range(len(small_mid_nms2)): \n",
    "    pos = (small_mid_nms2[i].left, small_mid_nms2[i].right, \n",
    "           small_mid_nms2[i].up, small_mid_nms2[i].down)\n",
    "    cv2.rectangle(img_small_mid_nms2, \n",
    "                  (pos[0], pos[2]), (pos[1], pos[3]), color, thickness)\n",
    "img_small_mid_large_nms2 = cv2.imread('90_4_down.jpg', 0)\n",
    "small_mid_large_nms2 = merge_and_nms_2(small_mid_nms2, large_nms1)\n",
    "print(len(small_mid_nms2) + len(large_nms1))\n",
    "print(len(small_mid_large_nms2))\n",
    "for i in range(len(small_mid_large_nms2)): \n",
    "    pos = (small_mid_large_nms2[i].left, small_mid_large_nms2[i].right, \n",
    "           small_mid_large_nms2[i].up, small_mid_large_nms2[i].down)\n",
    "    cv2.rectangle(img_small_mid_large_nms2, \n",
    "                  (pos[0], pos[2]), (pos[1], pos[3]), color, thickness)"
   ]
  },
  {
   "cell_type": "markdown",
   "metadata": {
    "heading_collapsed": true
   },
   "source": [
    "#### plot 展示与保存"
   ]
  },
  {
   "cell_type": "code",
   "execution_count": 64,
   "metadata": {
    "hidden": true,
    "scrolled": true
   },
   "outputs": [
    {
     "data": {
      "image/png": "[encoded data removed]",
      "text/plain": [
       "<matplotlib.figure.Figure at 0x2a64aaf4ef0>"
      ]
     },
     "metadata": {
      "needs_background": "light"
     },
     "output_type": "display_data"
    }
   ],
   "source": [
    "plt.figure(dpi=200)\n",
    "plt.subplot(2,1,1)\n",
    "plt.imshow(img_small, cmap=plt.cm.gray)\n",
    "\n",
    "plt.subplot(2,1,2)\n",
    "plt.imshow(img_small_nms1, cmap=plt.cm.gray)\n",
    "\n",
    "plt.show()"
   ]
  },
  {
   "cell_type": "code",
   "execution_count": 68,
   "metadata": {
    "hidden": true,
    "scrolled": true
   },
   "outputs": [
    {
     "data": {
      "image/png": "[encoded data removed]",
      "text/plain": [
       "<matplotlib.figure.Figure at 0x2a64ae6b400>"
      ]
     },
     "metadata": {
      "needs_background": "light"
     },
     "output_type": "display_data"
    }
   ],
   "source": [
    "plt.figure(dpi=200)\n",
    "plt.subplot(2,1,1)\n",
    "plt.imshow(img_mid, cmap=plt.cm.gray)\n",
    "\n",
    "plt.subplot(2,1,2)\n",
    "plt.imshow(img_mid_nms1, cmap=plt.cm.gray)\n",
    "\n",
    "plt.show()"
   ]
  },
  {
   "cell_type": "code",
   "execution_count": 69,
   "metadata": {
    "hidden": true,
    "scrolled": true
   },
   "outputs": [
    {
     "data": {
      "image/png": "[encoded data removed]",
      "text/plain": [
       "<matplotlib.figure.Figure at 0x2a64ab9ff98>"
      ]
     },
     "metadata": {
      "needs_background": "light"
     },
     "output_type": "display_data"
    }
   ],
   "source": [
    "plt.figure(dpi=200)\n",
    "plt.subplot(2,1,1)\n",
    "plt.imshow(img_large, cmap=plt.cm.gray)\n",
    "\n",
    "plt.subplot(2,1,2)\n",
    "plt.imshow(img_large_nms1, cmap=plt.cm.gray)\n",
    "\n",
    "plt.show()"
   ]
  },
  {
   "cell_type": "code",
   "execution_count": 70,
   "metadata": {
    "hidden": true,
    "scrolled": true
   },
   "outputs": [
    {
     "data": {
      "image/png": "[encoded data removed]",
      "text/plain": [
       "<matplotlib.figure.Figure at 0x2a64b14e550>"
      ]
     },
     "metadata": {
      "needs_background": "light"
     },
     "output_type": "display_data"
    }
   ],
   "source": [
    "plt.figure(dpi=300)\n",
    "\n",
    "plt.subplot(2,3,1)\n",
    "plt.imshow(img_small_nms1, cmap=plt.cm.gray)\n",
    "plt.axis('off')\n",
    "\n",
    "plt.subplot(2,3,2)\n",
    "plt.imshow(img_mid_nms1, cmap=plt.cm.gray)\n",
    "plt.axis('off')\n",
    "\n",
    "plt.subplot(2,3,3)\n",
    "plt.imshow(img_large_nms1, cmap=plt.cm.gray)\n",
    "plt.axis('off')\n",
    "\n",
    "plt.subplot(2,3,4)\n",
    "plt.imshow(img_small_mid_nms2, cmap=plt.cm.gray)\n",
    "plt.axis('off')\n",
    "\n",
    "plt.subplot(2,3,5)\n",
    "plt.imshow(img_small_mid_large_nms2, cmap=plt.cm.gray)\n",
    "plt.axis('off')\n",
    "\n",
    "plt.show()"
   ]
  },
  {
   "cell_type": "code",
   "execution_count": 83,
   "metadata": {
    "hidden": true
   },
   "outputs": [
    {
     "data": {
      "text/plain": [
       "True"
      ]
     },
     "execution_count": 83,
     "metadata": {},
     "output_type": "execute_result"
    }
   ],
   "source": [
    "cv2.imwrite('90_4_down_small.jpg', img_small)\n",
    "cv2.imwrite('90_4_down_small_nms1.jpg', img_small_nms1)\n",
    "cv2.imwrite('90_4_down_mid.jpg', img_mid)\n",
    "cv2.imwrite('90_4_down_mid_nms1.jpg', img_mid_nms1)\n",
    "cv2.imwrite('90_4_down_large.jpg', img_large)\n",
    "cv2.imwrite('90_4_down_large_nms1.jpg', img_large_nms1)\n",
    "cv2.imwrite('90_4_down_small_mid_nms2.jpg', img_small_mid_nms2)\n",
    "cv2.imwrite('90_4_down_small_mid_large_nms2.jpg', img_small_mid_large_nms2)"
   ]
  },
  {
   "cell_type": "markdown",
   "metadata": {
    "heading_collapsed": true
   },
   "source": [
    "#### 其他"
   ]
  },
  {
   "cell_type": "code",
   "execution_count": 48,
   "metadata": {
    "hidden": true
   },
   "outputs": [
    {
     "data": {
      "text/plain": [
       "True"
      ]
     },
     "execution_count": 48,
     "metadata": {},
     "output_type": "execute_result"
    }
   ],
   "source": [
    "cv2.imwrite('90_4_largebox.jpg', img)"
   ]
  },
  {
   "cell_type": "code",
   "execution_count": 78,
   "metadata": {
    "hidden": true
   },
   "outputs": [
    {
     "data": {
      "text/plain": [
       "True"
      ]
     },
     "execution_count": 78,
     "metadata": {},
     "output_type": "execute_result"
    }
   ],
   "source": [
    "img = cv2.imread('90_4_down.jpg', 0)\n",
    "small_center = (70, 50)\n",
    "mid_center = (220, 70)\n",
    "pos_mid = (95, 171, 15, 65)\n",
    "pos_left = (62, 78, 42, 58)\n",
    "pos_right = (188, 252, 38, 102)\n",
    "cv2.rectangle(img, (pos_mid[0], pos_mid[2]), (pos_mid[1], pos_mid[3]), (155), 1)\n",
    "cv2.rectangle(img, (pos_left[0], pos_left[2]), (pos_left[1], pos_left[3]), (155), 1)\n",
    "cv2.rectangle(img, (pos_right[0], pos_right[2]), (pos_right[1], pos_right[3]), (155), 1)\n",
    "cv2.imwrite('90_4_box_res.jpg', img)"
   ]
  },
  {
   "cell_type": "code",
   "execution_count": 81,
   "metadata": {
    "collapsed": true,
    "hidden": true
   },
   "outputs": [],
   "source": [
    "img = cv2.imread('uw/uw1/241.jpg')"
   ]
  },
  {
   "cell_type": "code",
   "execution_count": 82,
   "metadata": {
    "hidden": true
   },
   "outputs": [
    {
     "data": {
      "text/plain": [
       "(720, 1280, 3)"
      ]
     },
     "execution_count": 82,
     "metadata": {},
     "output_type": "execute_result"
    }
   ],
   "source": [
    "img.shape"
   ]
  },
  {
   "cell_type": "code",
   "execution_count": 83,
   "metadata": {
    "hidden": true
   },
   "outputs": [
    {
     "data": {
      "image/png": "[encoded data removed]",
      "text/plain": [
       "<matplotlib.figure.Figure at 0x1836a2b6c50>"
      ]
     },
     "metadata": {},
     "output_type": "display_data"
    }
   ],
   "source": [
    "crop_mid = img[pos_mid[2]: pos_mid[3], pos_mid[0]:pos_mid[1]]\n",
    "plt.figure()\n",
    "plt.imshow(crop_mid)\n",
    "plt.show()"
   ]
  },
  {
   "cell_type": "code",
   "execution_count": 84,
   "metadata": {
    "hidden": true
   },
   "outputs": [
    {
     "data": {
      "text/plain": [
       "(105, 179, 25, 75)"
      ]
     },
     "execution_count": 84,
     "metadata": {},
     "output_type": "execute_result"
    }
   ],
   "source": [
    "pos_mid"
   ]
  },
  {
   "cell_type": "code",
   "execution_count": null,
   "metadata": {
    "collapsed": true,
    "hidden": true
   },
   "outputs": [],
   "source": []
  }
 ],
 "metadata": {
  "kernelspec": {
   "display_name": "Python 3",
   "language": "python",
   "name": "python3"
  },
  "language_info": {
   "codemirror_mode": {
    "name": "ipython",
    "version": 3
   },
   "file_extension": ".py",
   "mimetype": "text/x-python",
   "name": "python",
   "nbconvert_exporter": "python",
   "pygments_lexer": "ipython3",
   "version": "3.6.2rc1"
  }
 },
 "nbformat": 4,
 "nbformat_minor": 2
}
