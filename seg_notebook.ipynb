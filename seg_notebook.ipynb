{
 "cells": [
  {
   "cell_type": "code",
   "execution_count": 1,
   "metadata": {
    "collapsed": true
   },
   "outputs": [],
   "source": [
    "import cv2\n",
    "from tqdm import tqdm"
   ]
  },
  {
   "cell_type": "code",
   "execution_count": 2,
   "metadata": {
    "collapsed": true
   },
   "outputs": [],
   "source": [
    "class Area:\n",
    "    def __init__(self, left, right, up, down, val):\n",
    "        self.left = left\n",
    "        self.right = right\n",
    "        self.up = up\n",
    "        self.down = down\n",
    "        self.val = val\n",
    "\n",
    "    def __cmp__(self, other):\n",
    "        if self.val < other.val:\n",
    "            return -1\n",
    "        elif self.val == other.val:\n",
    "            return 0\n",
    "        else:\n",
    "            return 1\n",
    "\n",
    "    def __lt__(self, other):  \n",
    "        if self.val < other.val:\n",
    "            return True\n",
    "        else:\n",
    "            return False\n",
    "        \n",
    "    def __str__(self):\n",
    "        return \"Area's value is \" + str(self.val)"
   ]
  },
  {
   "cell_type": "code",
   "execution_count": 3,
   "metadata": {
    "collapsed": true
   },
   "outputs": [],
   "source": [
    "def elements_gt_threshold(matrix, threshold):\n",
    "    count = 0\n",
    "    h, w = matrix.shape\n",
    "    for i in range(h):\n",
    "        for j in range(w):\n",
    "            if matrix[i, j] > threshold:\n",
    "                count += 1\n",
    "    return count"
   ]
  },
  {
   "cell_type": "code",
   "execution_count": 52,
   "metadata": {},
   "outputs": [
    {
     "name": "stderr",
     "output_type": "stream",
     "text": [
      "100%|██████████| 168/168 [00:19<00:00,  8.45it/s]\n"
     ]
    }
   ],
   "source": [
    "threshold = 0.1\n",
    "img = cv2.imread('90_4_down.jpg', 0)\n",
    "mid_hw = [(16, 16)]\n",
    "objects_count = 0\n",
    "h, w = img.shape\n",
    "\n",
    "result_list = []\n",
    "res_dict = {}\n",
    "for i in tqdm(range(h)):\n",
    "    for j in range(w):\n",
    "        # pool = Pool(processes=3)\n",
    "        for hw in mid_hw:\n",
    "            rect_h, rect_w = hw\n",
    "            tal = rect_h * rect_w * threshold\n",
    "            left = max(j - int(rect_w/2), 0)\n",
    "            right = min(j + int(rect_w/2), w)\n",
    "            up = max(i - int(rect_h / 2), 0)\n",
    "            down = min(i + int(rect_h / 2), h)\n",
    "            result = elements_gt_threshold(img[up:down, left:right], 200)\n",
    "            \n",
    "            if result > tal:\n",
    "                objects_count += 1\n",
    "                area = Area(left, right, up, down, result/(rect_h * rect_w))\n",
    "                result_list.append(area)"
   ]
  },
  {
   "cell_type": "code",
   "execution_count": 38,
   "metadata": {},
   "outputs": [
    {
     "name": "stderr",
     "output_type": "stream",
     "text": [
      "100%|██████████| 168/168 [01:13<00:00,  3.59it/s]\n"
     ]
    }
   ],
   "source": [
    "threshold = 0.1\n",
    "img = cv2.imread('90_4_down.jpg', 0)\n",
    "mid_hw = [(32, 32)]\n",
    "objects_count = 0\n",
    "h, w = img.shape\n",
    "\n",
    "result_list = []\n",
    "res_dict = {}\n",
    "for i in tqdm(range(h)):\n",
    "    for j in range(w):\n",
    "        # pool = Pool(processes=3)\n",
    "        for hw in mid_hw:\n",
    "            rect_h, rect_w = hw\n",
    "            tal = rect_h * rect_w * threshold\n",
    "            left = max(j - int(rect_w/2), 0)\n",
    "            right = min(j + int(rect_w/2), w)\n",
    "            up = max(i - int(rect_h / 2), 0)\n",
    "            down = min(i + int(rect_h / 2), h)\n",
    "            result = elements_gt_threshold(img[up:down, left:right], 200)\n",
    "            \n",
    "            if result > tal:\n",
    "                objects_count += 1\n",
    "                area = Area(left, right, up, down, result/(rect_h * rect_w))\n",
    "                result_list.append(area)"
   ]
  },
  {
   "cell_type": "code",
   "execution_count": 43,
   "metadata": {},
   "outputs": [
    {
     "name": "stderr",
     "output_type": "stream",
     "text": [
      "100%|██████████| 168/168 [04:08<00:00,  1.10it/s]\n"
     ]
    }
   ],
   "source": [
    "threshold = 0.1\n",
    "img = cv2.imread('90_4_down.jpg', 0)\n",
    "mid_hw = [(51, 76)]\n",
    "objects_count = 0\n",
    "h, w = img.shape\n",
    "\n",
    "result_list = []\n",
    "res_dict = {}\n",
    "for i in tqdm(range(h)):\n",
    "    for j in range(w):\n",
    "        # pool = Pool(processes=3)\n",
    "        for hw in mid_hw:\n",
    "            rect_h, rect_w = hw\n",
    "            tal = rect_h * rect_w * threshold\n",
    "            left = max(j - int(rect_w/2), 0)\n",
    "            right = min(j + int(rect_w/2), w)\n",
    "            up = max(i - int(rect_h / 2), 0)\n",
    "            down = min(i + int(rect_h / 2), h)\n",
    "            result = elements_gt_threshold(img[up:down, left:right], 200)\n",
    "            \n",
    "            if result > tal:\n",
    "                objects_count += 1\n",
    "                area = Area(left, right, up, down, result/(rect_h * rect_w))\n",
    "                result_list.append(area)"
   ]
  },
  {
   "cell_type": "code",
   "execution_count": 39,
   "metadata": {
    "collapsed": true
   },
   "outputs": [],
   "source": [
    "result_list.sort(reverse=True)"
   ]
  },
  {
   "cell_type": "code",
   "execution_count": 40,
   "metadata": {
    "collapsed": true
   },
   "outputs": [],
   "source": [
    "mid_list = result_list.copy()"
   ]
  },
  {
   "cell_type": "code",
   "execution_count": 53,
   "metadata": {
    "collapsed": true
   },
   "outputs": [],
   "source": [
    "small_list = result_list.copy()"
   ]
  },
  {
   "cell_type": "code",
   "execution_count": 44,
   "metadata": {
    "collapsed": true
   },
   "outputs": [],
   "source": [
    "large_list = result_list.copy()"
   ]
  },
  {
   "cell_type": "code",
   "execution_count": 45,
   "metadata": {},
   "outputs": [
    {
     "name": "stdout",
     "output_type": "stream",
     "text": [
      "3579\n",
      "3301\n",
      "1625\n"
     ]
    }
   ],
   "source": [
    "print(len(mid_list))\n",
    "print(len(small_list))\n",
    "print(len(large_list))"
   ]
  },
  {
   "cell_type": "code",
   "execution_count": 54,
   "metadata": {
    "collapsed": true
   },
   "outputs": [],
   "source": [
    "img = cv2.imread('90_4_down.jpg', 0)\n",
    "for i in range(len(small_list)): \n",
    "    pos = (small_list[i].left, small_list[i].right, small_list[i].up, small_list[i].down)\n",
    "    cv2.rectangle(img, (pos[0], pos[2]), (pos[1], pos[3]), (155), 1)"
   ]
  },
  {
   "cell_type": "code",
   "execution_count": 50,
   "metadata": {
    "collapsed": true
   },
   "outputs": [],
   "source": [
    "img = cv2.imread('90_4_down.jpg', 0)\n",
    "for i in range(len(mid_list)): \n",
    "    pos = (mid_list[i].left, mid_list[i].right, mid_list[i].up, mid_list[i].down)\n",
    "    cv2.rectangle(img, (pos[0], pos[2]), (pos[1], pos[3]), (155), 1)"
   ]
  },
  {
   "cell_type": "code",
   "execution_count": 72,
   "metadata": {
    "collapsed": true
   },
   "outputs": [],
   "source": [
    "img = cv2.imread('90_4_down.jpg', 0)\n",
    "for i in range(len(large_list)): \n",
    "    pos = (large_list[i].left, large_list[i].right, large_list[i].up, large_list[i].down)\n",
    "    cv2.rectangle(img, (pos[0], pos[2]), (pos[1], pos[3]), (155), 1)"
   ]
  },
  {
   "cell_type": "code",
   "execution_count": 71,
   "metadata": {},
   "outputs": [
    {
     "data": {
      "text/plain": [
       "array([[0, 0, 0, ..., 0, 0, 0],\n",
       "       [0, 0, 0, ..., 0, 0, 0],\n",
       "       [0, 0, 0, ..., 0, 0, 0],\n",
       "       ..., \n",
       "       [0, 0, 0, ..., 0, 0, 0],\n",
       "       [0, 0, 0, ..., 0, 0, 0],\n",
       "       [0, 0, 0, ..., 0, 0, 0]], dtype=uint8)"
      ]
     },
     "execution_count": 71,
     "metadata": {},
     "output_type": "execute_result"
    }
   ],
   "source": [
    "img = cv2.imread('90_4_down.jpg', 0)\n",
    "pos_mid = res_dict[keys[0]]\n",
    "pos_right = res_dict[keys[200]]\n",
    "cv2.rectangle(img, (pos_mid[0], pos_mid[2]), (pos_mid[1], pos_mid[3]), (155), 1)\n",
    "cv2.rectangle(img, (pos_right[0], pos_right[2]), (pos_right[1], pos_right[3]), (155), 1)"
   ]
  },
  {
   "cell_type": "code",
   "execution_count": 9,
   "metadata": {
    "collapsed": true
   },
   "outputs": [],
   "source": [
    "import matplotlib.pyplot as plt"
   ]
  },
  {
   "cell_type": "code",
   "execution_count": 73,
   "metadata": {},
   "outputs": [
    {
     "data": {
      "image/png": "[encoded data removed]",
      "text/plain": [
       "<matplotlib.figure.Figure at 0x205a0b505f8>"
      ]
     },
     "metadata": {},
     "output_type": "display_data"
    }
   ],
   "source": [
    "plt.figure()\n",
    "plt.imshow(img, cmap=plt.cm.gray)\n",
    "plt.show()"
   ]
  },
  {
   "cell_type": "code",
   "execution_count": 48,
   "metadata": {},
   "outputs": [
    {
     "data": {
      "text/plain": [
       "True"
      ]
     },
     "execution_count": 48,
     "metadata": {},
     "output_type": "execute_result"
    }
   ],
   "source": [
    "cv2.imwrite('90_4_largebox.jpg', img)"
   ]
  },
  {
   "cell_type": "code",
   "execution_count": 78,
   "metadata": {},
   "outputs": [
    {
     "data": {
      "text/plain": [
       "True"
      ]
     },
     "execution_count": 78,
     "metadata": {},
     "output_type": "execute_result"
    }
   ],
   "source": [
    "img = cv2.imread('90_4_down.jpg', 0)\n",
    "small_center = (70, 50)\n",
    "mid_center = (220, 70)\n",
    "pos_mid = (95, 171, 15, 65)\n",
    "pos_left = (62, 78, 42, 58)\n",
    "pos_right = (188, 252, 38, 102)\n",
    "cv2.rectangle(img, (pos_mid[0], pos_mid[2]), (pos_mid[1], pos_mid[3]), (155), 1)\n",
    "cv2.rectangle(img, (pos_left[0], pos_left[2]), (pos_left[1], pos_left[3]), (155), 1)\n",
    "cv2.rectangle(img, (pos_right[0], pos_right[2]), (pos_right[1], pos_right[3]), (155), 1)\n",
    "cv2.imwrite('90_4_box_res.jpg', img)"
   ]
  },
  {
   "cell_type": "code",
   "execution_count": 81,
   "metadata": {
    "collapsed": true
   },
   "outputs": [],
   "source": [
    "img = cv2.imread('uw/uw1/241.jpg')"
   ]
  },
  {
   "cell_type": "code",
   "execution_count": 82,
   "metadata": {},
   "outputs": [
    {
     "data": {
      "text/plain": [
       "(720, 1280, 3)"
      ]
     },
     "execution_count": 82,
     "metadata": {},
     "output_type": "execute_result"
    }
   ],
   "source": [
    "img.shape"
   ]
  },
  {
   "cell_type": "code",
   "execution_count": 83,
   "metadata": {},
   "outputs": [
    {
     "data": {
      "image/png": "[encoded data removed]",
      "text/plain": [
       "<matplotlib.figure.Figure at 0x1836a2b6c50>"
      ]
     },
     "metadata": {},
     "output_type": "display_data"
    }
   ],
   "source": [
    "crop_mid = img[pos_mid[2]: pos_mid[3], pos_mid[0]:pos_mid[1]]\n",
    "plt.figure()\n",
    "plt.imshow(crop_mid)\n",
    "plt.show()"
   ]
  },
  {
   "cell_type": "code",
   "execution_count": 84,
   "metadata": {},
   "outputs": [
    {
     "data": {
      "text/plain": [
       "(105, 179, 25, 75)"
      ]
     },
     "execution_count": 84,
     "metadata": {},
     "output_type": "execute_result"
    }
   ],
   "source": [
    "pos_mid"
   ]
  },
  {
   "cell_type": "code",
   "execution_count": 69,
   "metadata": {},
   "outputs": [
    {
     "name": "stdout",
     "output_type": "stream",
     "text": [
      "112 144 29 61\n",
      "0.3681640625\n"
     ]
    }
   ],
   "source": [
    "mid_list.sort(reverse=True)\n",
    "print(mid_list[0].left,mid_list[0].right,mid_list[0].up, mid_list[0].down)\n",
    "print(mid_list[0].val)"
   ]
  },
  {
   "cell_type": "code",
   "execution_count": 70,
   "metadata": {},
   "outputs": [
    {
     "name": "stdout",
     "output_type": "stream",
     "text": [
      "112 128 29 45\n",
      "0.6953125\n"
     ]
    }
   ],
   "source": [
    "small_list.sort(reverse=True)\n",
    "print(small_list[0].left,small_list[0].right,small_list[0].up, small_list[0].down)\n",
    "print(small_list[0].val)"
   ]
  },
  {
   "cell_type": "code",
   "execution_count": 71,
   "metadata": {},
   "outputs": [
    {
     "name": "stdout",
     "output_type": "stream",
     "text": [
      "95 171 15 65\n",
      "0.13596491228070176\n"
     ]
    }
   ],
   "source": [
    "large_list.sort(reverse=True)\n",
    "print(large_list[0].left,large_list[0].right,large_list[0].up, large_list[0].down)\n",
    "print(large_list[0].val)"
   ]
  },
  {
   "cell_type": "code",
   "execution_count": null,
   "metadata": {
    "collapsed": true
   },
   "outputs": [],
   "source": []
  }
 ],
 "metadata": {
  "kernelspec": {
   "display_name": "Python 3",
   "language": "python",
   "name": "python3"
  },
  "language_info": {
   "codemirror_mode": {
    "name": "ipython",
    "version": 3
   },
   "file_extension": ".py",
   "mimetype": "text/x-python",
   "name": "python",
   "nbconvert_exporter": "python",
   "pygments_lexer": "ipython3",
   "version": "3.6.2rc1"
  }
 },
 "nbformat": 4,
 "nbformat_minor": 2
}
